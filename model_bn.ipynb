{
  "nbformat": 4,
  "nbformat_minor": 0,
  "metadata": {
    "colab": {
      "name": "model_bn.ipynb",
      "provenance": [],
      "collapsed_sections": [],
      "mount_file_id": "1_KyNiC5oYJ3eQNGgoAGAziGkJYo_WNCC",
      "authorship_tag": "ABX9TyP2XZ5XJh9njq81tVMzpAhC",
      "include_colab_link": true
    },
    "kernelspec": {
      "name": "python3",
      "display_name": "Python 3"
    }
  },
  "cells": [
    {
      "cell_type": "markdown",
      "metadata": {
        "id": "view-in-github",
        "colab_type": "text"
      },
      "source": [
        "<a href=\"https://colab.research.google.com/github/manishmcsa/Assigment-6/blob/main/model_bn.ipynb\" target=\"_parent\"><img src=\"https://colab.research.google.com/assets/colab-badge.svg\" alt=\"Open In Colab\"/></a>"
      ]
    },
    {
      "cell_type": "code",
      "metadata": {
        "id": "0fWbHpxOq7wW"
      },
      "source": [
        "from __future__ import print_function\r\n",
        "import batchnorm\r\n",
        "from batchnorm import BatchNorm as BN\r\n",
        "import torch\r\n",
        "import torch.nn as nn\r\n",
        "import torch.nn.functional as F\r\n",
        "import torch.optim as optim\r\n",
        "from torchvision import datasets, transforms\r\n",
        "import torch.nn.functional as F"
      ],
      "execution_count": 3,
      "outputs": []
    },
    {
      "cell_type": "code",
      "metadata": {
        "id": "V9GhiRodr6l4"
      },
      "source": [
        "dropout_value = 0.05\r\n",
        "\r\n",
        "\r\n",
        "class Net(nn.Module):\r\n",
        "    def __init__(self):\r\n",
        "        super(Net, self).__init__()\r\n",
        "\r\n",
        "        # inp Block\r\n",
        "        self.convblock1 = nn.Sequential(\r\n",
        "            nn.Conv2d(in_channels=1, out_channels=15, kernel_size=(3, 3),\r\n",
        "                      padding=0, bias=False),\r\n",
        "            BN(15),\r\n",
        "            nn.ReLU(),\r\n",
        "            nn.Dropout2d(dropout_value)\r\n",
        "        )  # Input_size=28*28*1 kernel_size=3*3*10 Ouput_size=26*26*10\r\n",
        "        self.convblock2 = nn.Sequential(\r\n",
        "            nn.Conv2d(in_channels=15, out_channels=15, kernel_size=(3, 3),\r\n",
        "                      padding=0, bias=False),\r\n",
        "            BN(15),\r\n",
        "            nn.ReLU(),\r\n",
        "            nn.Dropout(dropout_value)\r\n",
        "        )  # Input_size=26*26*10 kernel_size=3*3*20 Ouput_size=24*24*20\r\n",
        "        self.convblock3 = nn.Sequential(\r\n",
        "            nn.Conv2d(in_channels=15, out_channels=20, kernel_size=(3, 3),\r\n",
        "                      padding=0, bias=False),\r\n",
        "            BN(20),\r\n",
        "            nn.ReLU(),\r\n",
        "            nn.Dropout(dropout_value)\r\n",
        "        )  # Input_size=24*24*20 kernel_size=3*3*20 Ouput_size=22*22*20\r\n",
        "\r\n",
        "        self.pool1 = nn.MaxPool2d(2,\r\n",
        "                                  2)  # Input_size=22*22*24 Ouput_size=11*11*20\r\n",
        "\r\n",
        "        self.convblock4 = nn.Sequential(\r\n",
        "            nn.Conv2d(in_channels=20, out_channels=15, kernel_size=(1, 1),\r\n",
        "                      padding=0, bias=False),\r\n",
        "            BN(15),\r\n",
        "            nn.ReLU(),\r\n",
        "            nn.Dropout(dropout_value)\r\n",
        "        )  # Input_size=11*11*20 kernel_size=1*1*10 Ouput_size=11*11*10\r\n",
        "\r\n",
        "        self.convblock5 = nn.Sequential(\r\n",
        "            nn.Conv2d(in_channels=15, out_channels=15, kernel_size=(3, 3),\r\n",
        "                      padding=0, bias=False),\r\n",
        "            BN(15),\r\n",
        "            nn.ReLU(),\r\n",
        "            nn.Dropout(dropout_value)\r\n",
        "        )  # Input_size=11*11*10 kernel_size=3*3*20 Ouput_size=9*9*20\r\n",
        "\r\n",
        "        self.convblock6 = nn.Sequential(\r\n",
        "            nn.Conv2d(in_channels=15, out_channels=15, kernel_size=(3, 3),\r\n",
        "                      padding=0, bias=False),\r\n",
        "            BN(15),\r\n",
        "            nn.ReLU(),\r\n",
        "            nn.Dropout(dropout_value)\r\n",
        "        )  # Input_size=9*9*20 kernel_size=3*3*12 Ouput_size=7*7*12\r\n",
        "\r\n",
        "        self.convblock7 = nn.Sequential(\r\n",
        "            nn.Conv2d(in_channels=15, out_channels=20, kernel_size=(1, 1),\r\n",
        "                      padding=0, bias=False),\r\n",
        "            BN(20),\r\n",
        "            nn.ReLU(),\r\n",
        "            nn.Dropout(dropout_value)\r\n",
        "        )  # Input_size=7*7*12 kernel_size=1*1*10 Ouput_size=7*7*10\r\n",
        "\r\n",
        "        self.gap = nn.Sequential(\r\n",
        "            nn.AvgPool2d(kernel_size=7)\r\n",
        "        )  # Input_size=7*7*10  Ouput_size=1*1*10\r\n",
        "\r\n",
        "        self.convblock8 = nn.Sequential(\r\n",
        "            nn.Conv2d(in_channels=20, out_channels=10, kernel_size=(1, 1),\r\n",
        "                      padding=0, bias=False),\r\n",
        "            # nn.BatchNorm2d(10),\r\n",
        "            # nn.ReLU(),\r\n",
        "            # nn.Dropout(dropout_value)\r\n",
        "        )  # Input_size=1*1*10  Ouput_size=1*1*10\r\n",
        "\r\n",
        "    def forward(self, x):\r\n",
        "        x = self.convblock1(x)\r\n",
        "        x = self.convblock2(x)\r\n",
        "        x = self.convblock3(x)\r\n",
        "        x = self.pool1(x)\r\n",
        "        x = self.convblock4(x)\r\n",
        "        x = self.convblock5(x)\r\n",
        "        x = self.convblock6(x)\r\n",
        "        x = self.convblock7(x)\r\n",
        "        x = self.gap(x)\r\n",
        "        x = self.convblock8(x)\r\n",
        "        x = x.view(-1, 10)\r\n",
        "        return F.log_softmax(x, dim=-1)"
      ],
      "execution_count": null,
      "outputs": []
    },
    {
      "cell_type": "code",
      "metadata": {
        "id": "lwUALy9KsPy-"
      },
      "source": [
        "if __name__ == '__main__':\r\n",
        "    from torchsummary import summary\r\n",
        "\r\n",
        "    use_cuda = torch.cuda.is_available()\r\n",
        "    device = torch.device(\"cuda\" if use_cuda else \"cpu\")\r\n",
        "    print(device)\r\n",
        "    model = Net().to(device)\r\n",
        "    summary(model, input_size=(1, 28, 28))\r\n"
      ],
      "execution_count": null,
      "outputs": []
    }
  ]
}