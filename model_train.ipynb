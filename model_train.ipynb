{
  "nbformat": 4,
  "nbformat_minor": 0,
  "metadata": {
    "colab": {
      "name": "model_train.ipynb",
      "provenance": [],
      "collapsed_sections": [],
      "mount_file_id": "1_KyNiC5oYJ3eQNGgoAGAziGkJYo_WNCC",
      "authorship_tag": "ABX9TyNx1Rrx3avxDF/u45ursc5M",
      "include_colab_link": true
    },
    "kernelspec": {
      "name": "python3",
      "display_name": "Python 3"
    }
  },
  "cells": [
    {
      "cell_type": "markdown",
      "metadata": {
        "id": "view-in-github",
        "colab_type": "text"
      },
      "source": [
        "<a href=\"https://colab.research.google.com/github/manishmcsa/Assigment-6/blob/main/model_train.ipynb\" target=\"_parent\"><img src=\"https://colab.research.google.com/assets/colab-badge.svg\" alt=\"Open In Colab\"/></a>"
      ]
    },
    {
      "cell_type": "code",
      "metadata": {
        "id": "0fWbHpxOq7wW"
      },
      "source": [
        "from __future__ import print_function\r\n",
        "import torch\r\n",
        "import torch.nn as nn\r\n",
        "import torch.nn.functional as F\r\n",
        "import torch.optim as optim\r\n",
        "from torchvision import datasets, transforms\r\n",
        "from tqdm import tqdm"
      ],
      "execution_count": 3,
      "outputs": []
    },
    {
      "cell_type": "code",
      "metadata": {
        "id": "V9GhiRodr6l4"
      },
      "source": [
        "def train(model, device, train_loader, optimizer, epoch, l1_decay, l2_decay):\r\n",
        "    model.train()\r\n",
        "    pbar = tqdm(train_loader)\r\n",
        "    correct = 0\r\n",
        "    processed = 0\r\n",
        "    l1_loss = None\r\n",
        "    l2_loss = None\r\n",
        "    for batch_idx, (data, target) in enumerate(pbar):\r\n",
        "        # get samples\r\n",
        "        data, target = data.to(device), target.to(device)\r\n",
        "\r\n",
        "        # Init\r\n",
        "        optimizer.zero_grad()\r\n",
        "        # In PyTorch, we need to set the gradients to zero before starting to\r\n",
        "        # do backpropragation because PyTorch accumulates the gradients on\r\n",
        "        # subsequent backward passes.\r\n",
        "        # Because of this, when you start your training loop, ideally you\r\n",
        "        # should zero out the gradients so that you do the parameter update\r\n",
        "        # correctly.\r\n",
        "\r\n",
        "        # Predict\r\n",
        "        y_pred = model(data)\r\n",
        "\r\n",
        "        # Calculate loss\r\n",
        "        loss = F.nll_loss(y_pred, target)\r\n",
        "        if l1_decay > 0:\r\n",
        "            l1_loss = 0\r\n",
        "            for param in model.parameters():\r\n",
        "                l1_loss += torch.norm(param, 1)\r\n",
        "            loss += l1_decay * l1_loss\r\n",
        "        if l2_decay > 0:\r\n",
        "            l2_loss = 0\r\n",
        "            for param in model.parameters():\r\n",
        "                l2_loss += torch.norm(param, 2)\r\n",
        "            loss += l2_decay * l2_loss\r\n",
        "\r\n",
        "        # Backpropagation\r\n",
        "        loss.backward()\r\n",
        "        optimizer.step()\r\n",
        "\r\n",
        "        # Update pbar-tqdm\r\n",
        "\r\n",
        "        pred = y_pred.argmax(dim=1,\r\n",
        "                             keepdim=True)  # get the index of the max\r\n",
        "        # log-probability\r\n",
        "        correct += pred.eq(target.view_as(pred)).sum().item()\r\n",
        "        processed += len(data)\r\n",
        "\r\n",
        "        pbar_str = f'Loss={loss.item()} Batch_id={batch_idx} Accuracy=' \\\r\n",
        "                   f'{100 * correct / processed:0.2f}'\r\n",
        "        if l1_decay > 0:\r\n",
        "            pbar_str = f'L1_loss={l1_loss.item()} %s' % pbar_str\r\n",
        "        if l2_decay > 0:\r\n",
        "            pbar_str = f'L2_loss={l2_loss.item()} %s' % pbar_str"
      ],
      "execution_count": null,
      "outputs": []
    }
  ]
}