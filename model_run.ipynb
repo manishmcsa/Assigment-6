{
  "nbformat": 4,
  "nbformat_minor": 0,
  "metadata": {
    "colab": {
      "name": "model_run.ipynb",
      "provenance": [],
      "collapsed_sections": [],
      "mount_file_id": "1_KyNiC5oYJ3eQNGgoAGAziGkJYo_WNCC",
      "authorship_tag": "ABX9TyORnCzFnMCeue2hdil/GH5C",
      "include_colab_link": true
    },
    "kernelspec": {
      "name": "python3",
      "display_name": "Python 3"
    }
  },
  "cells": [
    {
      "cell_type": "markdown",
      "metadata": {
        "id": "view-in-github",
        "colab_type": "text"
      },
      "source": [
        "<a href=\"https://colab.research.google.com/github/manishmcsa/Assigment-6/blob/main/model_run.ipynb\" target=\"_parent\"><img src=\"https://colab.research.google.com/assets/colab-badge.svg\" alt=\"Open In Colab\"/></a>"
      ]
    },
    {
      "cell_type": "code",
      "metadata": {
        "id": "0fWbHpxOq7wW"
      },
      "source": [
        "from __future__ import print_function\r\n",
        "from torchvision import datasets, transforms\r\n",
        "from tqdm import tqdm\r\n",
        "from model_bn import Net\r\n",
        "from model_train import train\r\n",
        "from model_test import test\r\n",
        "from train_test_data import data_load\r\n",
        "import torch\r\n",
        "import torch.nn as nn\r\n",
        "import torch.nn.functional as F\r\n",
        "import torch.optim as optim\r\n"
      ],
      "execution_count": 3,
      "outputs": []
    },
    {
      "cell_type": "code",
      "metadata": {
        "id": "V9GhiRodr6l4"
      },
      "source": [
        "device = 'cuda' if torch.cuda.is_available() else 'cpu'\r\n",
        "model = Net()\r\n",
        "model = model.to(device)\r\n",
        "train_loader, test_loader = data_load()"
      ],
      "execution_count": null,
      "outputs": []
    },
    {
      "cell_type": "code",
      "metadata": {
        "id": "lwUALy9KsPy-"
      },
      "source": [
        "def run(l1_decay=0.0, l2_decay=0.0):\r\n",
        "    optimizer = optim.SGD(model.parameters(), lr=0.05, momentum=0.9)\r\n",
        "    scheduler = optim.lr_scheduler.StepLR(optimizer, step_size=32, gamma=0.1)\r\n",
        "    EPOCHS = 25\r\n",
        "    test_losses = []\r\n",
        "    test_acc = []\r\n",
        "    misclassified_imgs = []\r\n",
        "    for epoch in range(EPOCHS):\r\n",
        "        print(\"EPOCH:\", epoch + 1)\r\n",
        "        train(model, device, train_loader, optimizer, epoch, l1_decay, l2_decay)\r\n",
        "        scheduler.step()\r\n",
        "        test(model, device, test_loader, test_losses, test_acc,\r\n",
        "             misclassified_imgs, epoch == EPOCHS - 1)\r\n",
        "    return test_losses, test_acc, misclassified_imgs\r\n",
        "\r\n",
        "\r\n",
        "if __name__ == '__main__':\r\n",
        "    run()"
      ],
      "execution_count": null,
      "outputs": []
    }
  ]
}