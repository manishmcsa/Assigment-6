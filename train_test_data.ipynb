{
  "nbformat": 4,
  "nbformat_minor": 0,
  "metadata": {
    "colab": {
      "name": "train_test_data.ipynb",
      "provenance": [],
      "collapsed_sections": [],
      "mount_file_id": "1_KyNiC5oYJ3eQNGgoAGAziGkJYo_WNCC",
      "authorship_tag": "ABX9TyNjgAME9N2prW1KAhu3qGXR",
      "include_colab_link": true
    },
    "kernelspec": {
      "name": "python3",
      "display_name": "Python 3"
    }
  },
  "cells": [
    {
      "cell_type": "markdown",
      "metadata": {
        "id": "view-in-github",
        "colab_type": "text"
      },
      "source": [
        "<a href=\"https://colab.research.google.com/github/manishmcsa/Assigment-6/blob/main/train_test_data.ipynb\" target=\"_parent\"><img src=\"https://colab.research.google.com/assets/colab-badge.svg\" alt=\"Open In Colab\"/></a>"
      ]
    },
    {
      "cell_type": "code",
      "metadata": {
        "id": "0fWbHpxOq7wW"
      },
      "source": [
        "import torch\r\n",
        "import torch.nn as nn\r\n",
        "from torchvision import datasets, transforms"
      ],
      "execution_count": 3,
      "outputs": []
    },
    {
      "cell_type": "code",
      "metadata": {
        "id": "V9GhiRodr6l4"
      },
      "source": [
        "def data_load():\r\n",
        "    train_transforms = transforms.Compose([\r\n",
        "        transforms.ToTensor(),\r\n",
        "        transforms.Normalize((0.1307,), (0.3081,))\r\n",
        "        # The mean and std have to be sequences (e.g., tuples), therefore you\r\n",
        "        # should add a comma after the values.\r\n",
        "    ])\r\n",
        "    test_transforms = transforms.Compose([\r\n",
        "        transforms.ToTensor(),\r\n",
        "        transforms.Normalize((0.1307,), (0.3081,))\r\n",
        "    ])\r\n",
        "    train = datasets.MNIST('./data', train=True, download=True,\r\n",
        "                           transform=train_transforms)\r\n",
        "    test = datasets.MNIST('./data', train=False, download=True,\r\n",
        "                          transform=test_transforms)\r\n",
        "    # dataloader arguments - something you'll fetch these from cmdprmt\r\n",
        "    batch_size_cuda = 32\r\n",
        "    batch_size_cpu = 32\r\n",
        "    cuda = 'cuda' if torch.cuda.is_available() else None\r\n",
        "    dataloader_args = dict(shuffle=True, batch_size=batch_size_cuda,\r\n",
        "                           num_workers=4, pin_memory=True) if cuda else dict(\r\n",
        "        shuffle=True, batch_size=batch_size_cpu)\r\n",
        "\r\n",
        "    # train dataloader\r\n",
        "    train_loader = torch.utils.data.DataLoader(train, **dataloader_args)\r\n",
        "\r\n",
        "    # test dataloader\r\n",
        "    test_loader = torch.utils.data.DataLoader(test, **dataloader_args)\r\n",
        "\r\n",
        "    return train_loader, test_loader"
      ],
      "execution_count": null,
      "outputs": []
    }
  ]
}