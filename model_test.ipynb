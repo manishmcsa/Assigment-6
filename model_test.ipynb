{
  "nbformat": 4,
  "nbformat_minor": 0,
  "metadata": {
    "colab": {
      "name": "model_test.ipynb",
      "provenance": [],
      "collapsed_sections": [],
      "mount_file_id": "1_KyNiC5oYJ3eQNGgoAGAziGkJYo_WNCC",
      "authorship_tag": "ABX9TyOBDOWUmKaR523ikRbD6+z6",
      "include_colab_link": true
    },
    "kernelspec": {
      "name": "python3",
      "display_name": "Python 3"
    }
  },
  "cells": [
    {
      "cell_type": "markdown",
      "metadata": {
        "id": "view-in-github",
        "colab_type": "text"
      },
      "source": [
        "<a href=\"https://colab.research.google.com/github/manishmcsa/Assigment-6/blob/main/model_test.ipynb\" target=\"_parent\"><img src=\"https://colab.research.google.com/assets/colab-badge.svg\" alt=\"Open In Colab\"/></a>"
      ]
    },
    {
      "cell_type": "code",
      "metadata": {
        "id": "0fWbHpxOq7wW"
      },
      "source": [
        "from __future__ import print_function\r\n",
        "import torch\r\n",
        "import torch.nn as nn\r\n",
        "import torch.nn.functional as F\r\n",
        "import torch.optim as optim\r\n",
        "from torchvision import datasets, transforms\r\n",
        "from tqdm import tqdm"
      ],
      "execution_count": 3,
      "outputs": []
    },
    {
      "cell_type": "code",
      "metadata": {
        "id": "V9GhiRodr6l4"
      },
      "source": [
        "def test(model, device, test_loader, test_losses, test_acc, misclassified_imgs,\r\n",
        "         is_last_epoch):\r\n",
        "    model.eval()\r\n",
        "    test_loss = 0\r\n",
        "    correct = 0\r\n",
        "    with torch.no_grad():\r\n",
        "        for data, target in test_loader:\r\n",
        "            data, target = data.to(device), target.to(device)\r\n",
        "            output = model(data)\r\n",
        "            test_loss += F.nll_loss(output, target,\r\n",
        "                                    reduction='sum').item()  # sum up batch loss\r\n",
        "            pred = output.argmax(dim=1,\r\n",
        "                                 keepdim=True)  # get the index of the max\r\n",
        "            # log-probability\r\n",
        "            is_correct = pred.eq(target.view_as(pred))\r\n",
        "            if is_last_epoch:\r\n",
        "                misclassified_inds = (is_correct == 0).nonzero()[:, 0]\r\n",
        "                for mis_ind in misclassified_inds:\r\n",
        "                    if len(misclassified_imgs) == 25:\r\n",
        "                        break\r\n",
        "                    misclassified_imgs.append({\r\n",
        "                        \"target\": target[mis_ind].cpu().numpy(),\r\n",
        "                        \"pred\": pred[mis_ind][0].cpu().numpy(),\r\n",
        "                        \"img\": data[mis_ind].cpu().numpy()[0]\r\n",
        "                    })\r\n",
        "            correct += is_correct.sum().item()\r\n",
        "\r\n",
        "    test_loss /= len(test_loader.dataset)\r\n",
        "    test_losses.append(test_loss)\r\n",
        "\r\n",
        "    print(\r\n",
        "        '\\nTest set: Average loss: {:.4f}, Accuracy: {}/{} ({:.2f}%)\\n'.format(\r\n",
        "            test_loss, correct, len(test_loader.dataset),\r\n",
        "            100. * correct / len(test_loader.dataset)))\r\n",
        "\r\n",
        "    test_acc.append(100. * correct / len(test_loader.dataset))\r\n"
      ],
      "execution_count": null,
      "outputs": []
    }
  ]
}